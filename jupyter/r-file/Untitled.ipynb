{
 "cells": [
  {
   "cell_type": "markdown",
   "metadata": {},
   "source": [
    "# Stock Returns"
   ]
  },
  {
   "cell_type": "markdown",
   "metadata": {},
   "source": [
    "## Set the Directory"
   ]
  },
  {
   "cell_type": "code",
   "execution_count": 1,
   "metadata": {},
   "outputs": [],
   "source": [
    "setwd(\"/jupyter/csv-file\")"
   ]
  },
  {
   "cell_type": "markdown",
   "metadata": {},
   "source": [
    "## Clear Memory"
   ]
  },
  {
   "cell_type": "code",
   "execution_count": 2,
   "metadata": {},
   "outputs": [],
   "source": [
    "rm(list=ls())"
   ]
  },
  {
   "cell_type": "markdown",
   "metadata": {},
   "source": [
    "## Import the Data"
   ]
  },
  {
   "cell_type": "code",
   "execution_count": 3,
   "metadata": {},
   "outputs": [
    {
     "data": {
      "text/html": [
       "<table>\n",
       "<caption>A data.frame: 6 × 4</caption>\n",
       "<thead>\n",
       "\t<tr><th scope=col>Date</th><th scope=col>gold</th><th scope=col>nyse</th><th scope=col>nasdaq</th></tr>\n",
       "\t<tr><th scope=col>&lt;fct&gt;</th><th scope=col>&lt;dbl&gt;</th><th scope=col>&lt;dbl&gt;</th><th scope=col>&lt;dbl&gt;</th></tr>\n",
       "</thead>\n",
       "<tbody>\n",
       "\t<tr><td>1973-01-31</td><td> 2.01</td><td>-2.6721</td><td>-3.7341</td></tr>\n",
       "\t<tr><td>1973-02-28</td><td>29.24</td><td>-4.4088</td><td>-5.8657</td></tr>\n",
       "\t<tr><td>1973-03-31</td><td> 5.80</td><td>-0.6709</td><td>-2.3987</td></tr>\n",
       "\t<tr><td>1973-04-30</td><td> 0.50</td><td>-4.7597</td><td>-8.0667</td></tr>\n",
       "\t<tr><td>1973-05-31</td><td>26.24</td><td>-2.3386</td><td>-4.6526</td></tr>\n",
       "\t<tr><td>1973-06-30</td><td> 7.86</td><td>-1.0214</td><td>-1.7628</td></tr>\n",
       "</tbody>\n",
       "</table>\n"
      ],
      "text/latex": [
       "A data.frame: 6 × 4\n",
       "\\begin{tabular}{r|llll}\n",
       " Date & gold & nyse & nasdaq\\\\\n",
       " <fct> & <dbl> & <dbl> & <dbl>\\\\\n",
       "\\hline\n",
       "\t 1973-01-31 &  2.01 & -2.6721 & -3.7341\\\\\n",
       "\t 1973-02-28 & 29.24 & -4.4088 & -5.8657\\\\\n",
       "\t 1973-03-31 &  5.80 & -0.6709 & -2.3987\\\\\n",
       "\t 1973-04-30 &  0.50 & -4.7597 & -8.0667\\\\\n",
       "\t 1973-05-31 & 26.24 & -2.3386 & -4.6526\\\\\n",
       "\t 1973-06-30 &  7.86 & -1.0214 & -1.7628\\\\\n",
       "\\end{tabular}\n"
      ],
      "text/markdown": [
       "\n",
       "A data.frame: 6 × 4\n",
       "\n",
       "| Date &lt;fct&gt; | gold &lt;dbl&gt; | nyse &lt;dbl&gt; | nasdaq &lt;dbl&gt; |\n",
       "|---|---|---|---|\n",
       "| 1973-01-31 |  2.01 | -2.6721 | -3.7341 |\n",
       "| 1973-02-28 | 29.24 | -4.4088 | -5.8657 |\n",
       "| 1973-03-31 |  5.80 | -0.6709 | -2.3987 |\n",
       "| 1973-04-30 |  0.50 | -4.7597 | -8.0667 |\n",
       "| 1973-05-31 | 26.24 | -2.3386 | -4.6526 |\n",
       "| 1973-06-30 |  7.86 | -1.0214 | -1.7628 |\n",
       "\n"
      ],
      "text/plain": [
       "  Date       gold  nyse    nasdaq \n",
       "1 1973-01-31  2.01 -2.6721 -3.7341\n",
       "2 1973-02-28 29.24 -4.4088 -5.8657\n",
       "3 1973-03-31  5.80 -0.6709 -2.3987\n",
       "4 1973-04-30  0.50 -4.7597 -8.0667\n",
       "5 1973-05-31 26.24 -2.3386 -4.6526\n",
       "6 1973-06-30  7.86 -1.0214 -1.7628"
      ]
     },
     "metadata": {},
     "output_type": "display_data"
    },
    {
     "data": {
      "text/html": [
       "<table>\n",
       "<caption>A data.frame: 6 × 4</caption>\n",
       "<thead>\n",
       "\t<tr><th></th><th scope=col>Date</th><th scope=col>gold</th><th scope=col>nyse</th><th scope=col>nasdaq</th></tr>\n",
       "\t<tr><th></th><th scope=col>&lt;fct&gt;</th><th scope=col>&lt;dbl&gt;</th><th scope=col>&lt;dbl&gt;</th><th scope=col>&lt;dbl&gt;</th></tr>\n",
       "</thead>\n",
       "<tbody>\n",
       "\t<tr><th scope=row>523</th><td>2016-07-31</td><td> 1.18</td><td> 2.6872</td><td> 6.6157</td></tr>\n",
       "\t<tr><th scope=row>524</th><td>2016-08-31</td><td>-1.35</td><td>-0.2532</td><td> 0.8787</td></tr>\n",
       "\t<tr><th scope=row>525</th><td>2016-09-30</td><td> 1.02</td><td>-0.5878</td><td> 1.8230</td></tr>\n",
       "\t<tr><th scope=row>526</th><td>2016-10-31</td><td>-4.04</td><td>-2.2944</td><td>-2.3002</td></tr>\n",
       "\t<tr><th scope=row>527</th><td>2016-11-30</td><td>-6.81</td><td> 4.5701</td><td> 2.6509</td></tr>\n",
       "\t<tr><th scope=row>528</th><td>2016-12-31</td><td>-2.38</td><td> 1.9488</td><td> 1.1751</td></tr>\n",
       "</tbody>\n",
       "</table>\n"
      ],
      "text/latex": [
       "A data.frame: 6 × 4\n",
       "\\begin{tabular}{r|llll}\n",
       "  & Date & gold & nyse & nasdaq\\\\\n",
       "  & <fct> & <dbl> & <dbl> & <dbl>\\\\\n",
       "\\hline\n",
       "\t523 & 2016-07-31 &  1.18 &  2.6872 &  6.6157\\\\\n",
       "\t524 & 2016-08-31 & -1.35 & -0.2532 &  0.8787\\\\\n",
       "\t525 & 2016-09-30 &  1.02 & -0.5878 &  1.8230\\\\\n",
       "\t526 & 2016-10-31 & -4.04 & -2.2944 & -2.3002\\\\\n",
       "\t527 & 2016-11-30 & -6.81 &  4.5701 &  2.6509\\\\\n",
       "\t528 & 2016-12-31 & -2.38 &  1.9488 &  1.1751\\\\\n",
       "\\end{tabular}\n"
      ],
      "text/markdown": [
       "\n",
       "A data.frame: 6 × 4\n",
       "\n",
       "| <!--/--> | Date &lt;fct&gt; | gold &lt;dbl&gt; | nyse &lt;dbl&gt; | nasdaq &lt;dbl&gt; |\n",
       "|---|---|---|---|---|\n",
       "| 523 | 2016-07-31 |  1.18 |  2.6872 |  6.6157 |\n",
       "| 524 | 2016-08-31 | -1.35 | -0.2532 |  0.8787 |\n",
       "| 525 | 2016-09-30 |  1.02 | -0.5878 |  1.8230 |\n",
       "| 526 | 2016-10-31 | -4.04 | -2.2944 | -2.3002 |\n",
       "| 527 | 2016-11-30 | -6.81 |  4.5701 |  2.6509 |\n",
       "| 528 | 2016-12-31 | -2.38 |  1.9488 |  1.1751 |\n",
       "\n"
      ],
      "text/plain": [
       "    Date       gold  nyse    nasdaq \n",
       "523 2016-07-31  1.18  2.6872  6.6157\n",
       "524 2016-08-31 -1.35 -0.2532  0.8787\n",
       "525 2016-09-30  1.02 -0.5878  1.8230\n",
       "526 2016-10-31 -4.04 -2.2944 -2.3002\n",
       "527 2016-11-30 -6.81  4.5701  2.6509\n",
       "528 2016-12-31 -2.38  1.9488  1.1751"
      ]
     },
     "metadata": {},
     "output_type": "display_data"
    }
   ],
   "source": [
    "data=read.csv('goldreturns.csv',header=T) # our data has headers (Tmeans True).\n",
    "head(data)\n",
    "tail(data)\n",
    "attach(data)         # \"attach\"lets us use the variable names."
   ]
  },
  {
   "cell_type": "markdown",
   "metadata": {},
   "source": [
    "## Convert Data into Time Series"
   ]
  },
  {
   "cell_type": "code",
   "execution_count": null,
   "metadata": {},
   "outputs": [],
   "source": [
    "gold_ts=ts(gold,frequency=12,start=c(1973,1))\n",
    "nyse_ts=ts(nyse,frequency=12,start=c(1973,1))\n",
    "nasdaq_ts =ts(nasdaq,frequency=12,start=c(1973,1))"
   ]
  },
  {
   "cell_type": "markdown",
   "metadata": {},
   "source": [
    "## Plotting the Data"
   ]
  },
  {
   "cell_type": "code",
   "execution_count": 5,
   "metadata": {},
   "outputs": [
    {
     "data": {
      "text/html": [
       "<strong>png:</strong> 2"
      ],
      "text/latex": [
       "\\textbf{png:} 2"
      ],
      "text/markdown": [
       "**png:** 2"
      ],
      "text/plain": [
       "png \n",
       "  2 "
      ]
     },
     "metadata": {},
     "output_type": "display_data"
    }
   ],
   "source": [
    "pdf('goldreturns.pdf')\n",
    "par(mfrow=c(3,1))\n",
    "ts.plot(gold_ts)\n",
    "ts.plot(nyse_ts)\n",
    "ts.plot(nasdaq_ts)\n",
    "dev.off()"
   ]
  },
  {
   "cell_type": "markdown",
   "metadata": {},
   "source": [
    "## Data Summary"
   ]
  },
  {
   "cell_type": "code",
   "execution_count": 7,
   "metadata": {},
   "outputs": [
    {
     "name": "stderr",
     "output_type": "stream",
     "text": [
      "Installing package into ‘/usr/local/spark-2.4.3-bin-hadoop2.7/R/lib’\n",
      "(as ‘lib’ is unspecified)\n",
      "also installing the dependencies ‘mnormt’, ‘foreign’\n",
      "\n"
     ]
    },
    {
     "data": {
      "text/html": [
       "<table>\n",
       "<caption>A psych: 3 × 13</caption>\n",
       "<thead>\n",
       "\t<tr><th></th><th scope=col>vars</th><th scope=col>n</th><th scope=col>mean</th><th scope=col>sd</th><th scope=col>median</th><th scope=col>trimmed</th><th scope=col>mad</th><th scope=col>min</th><th scope=col>max</th><th scope=col>range</th><th scope=col>skew</th><th scope=col>kurtosis</th><th scope=col>se</th></tr>\n",
       "\t<tr><th></th><th scope=col>&lt;int&gt;</th><th scope=col>&lt;dbl&gt;</th><th scope=col>&lt;dbl&gt;</th><th scope=col>&lt;dbl&gt;</th><th scope=col>&lt;dbl&gt;</th><th scope=col>&lt;dbl&gt;</th><th scope=col>&lt;dbl&gt;</th><th scope=col>&lt;dbl&gt;</th><th scope=col>&lt;dbl&gt;</th><th scope=col>&lt;dbl&gt;</th><th scope=col>&lt;dbl&gt;</th><th scope=col>&lt;dbl&gt;</th><th scope=col>&lt;dbl&gt;</th></tr>\n",
       "</thead>\n",
       "<tbody>\n",
       "\t<tr><th scope=row>gold</th><td>1</td><td>528</td><td>0.7238636</td><td>6.034589</td><td>0.0150</td><td>0.4118160</td><td>4.596060</td><td>-21.3700</td><td>29.2400</td><td>50.6100</td><td> 0.9231638</td><td>4.265637</td><td>0.2626218</td></tr>\n",
       "\t<tr><th scope=row>nyse</th><td>2</td><td>528</td><td>0.6364960</td><td>4.353424</td><td>0.9839</td><td>0.7602703</td><td>3.980188</td><td>-21.8447</td><td>16.4814</td><td>38.3261</td><td>-0.4956494</td><td>2.378947</td><td>0.1894585</td></tr>\n",
       "\t<tr><th scope=row>nasdaq</th><td>3</td><td>528</td><td>0.8781858</td><td>6.151811</td><td>1.3013</td><td>1.0599858</td><td>5.078943</td><td>-27.1763</td><td>21.8964</td><td>49.0727</td><td>-0.4768352</td><td>1.836064</td><td>0.2677232</td></tr>\n",
       "</tbody>\n",
       "</table>\n"
      ],
      "text/latex": [
       "A psych: 3 × 13\n",
       "\\begin{tabular}{r|lllllllllllll}\n",
       "  & vars & n & mean & sd & median & trimmed & mad & min & max & range & skew & kurtosis & se\\\\\n",
       "  & <int> & <dbl> & <dbl> & <dbl> & <dbl> & <dbl> & <dbl> & <dbl> & <dbl> & <dbl> & <dbl> & <dbl> & <dbl>\\\\\n",
       "\\hline\n",
       "\tgold & 1 & 528 & 0.7238636 & 6.034589 & 0.0150 & 0.4118160 & 4.596060 & -21.3700 & 29.2400 & 50.6100 &  0.9231638 & 4.265637 & 0.2626218\\\\\n",
       "\tnyse & 2 & 528 & 0.6364960 & 4.353424 & 0.9839 & 0.7602703 & 3.980188 & -21.8447 & 16.4814 & 38.3261 & -0.4956494 & 2.378947 & 0.1894585\\\\\n",
       "\tnasdaq & 3 & 528 & 0.8781858 & 6.151811 & 1.3013 & 1.0599858 & 5.078943 & -27.1763 & 21.8964 & 49.0727 & -0.4768352 & 1.836064 & 0.2677232\\\\\n",
       "\\end{tabular}\n"
      ],
      "text/markdown": [
       "\n",
       "A psych: 3 × 13\n",
       "\n",
       "| <!--/--> | vars &lt;int&gt; | n &lt;dbl&gt; | mean &lt;dbl&gt; | sd &lt;dbl&gt; | median &lt;dbl&gt; | trimmed &lt;dbl&gt; | mad &lt;dbl&gt; | min &lt;dbl&gt; | max &lt;dbl&gt; | range &lt;dbl&gt; | skew &lt;dbl&gt; | kurtosis &lt;dbl&gt; | se &lt;dbl&gt; |\n",
       "|---|---|---|---|---|---|---|---|---|---|---|---|---|---|\n",
       "| gold | 1 | 528 | 0.7238636 | 6.034589 | 0.0150 | 0.4118160 | 4.596060 | -21.3700 | 29.2400 | 50.6100 |  0.9231638 | 4.265637 | 0.2626218 |\n",
       "| nyse | 2 | 528 | 0.6364960 | 4.353424 | 0.9839 | 0.7602703 | 3.980188 | -21.8447 | 16.4814 | 38.3261 | -0.4956494 | 2.378947 | 0.1894585 |\n",
       "| nasdaq | 3 | 528 | 0.8781858 | 6.151811 | 1.3013 | 1.0599858 | 5.078943 | -27.1763 | 21.8964 | 49.0727 | -0.4768352 | 1.836064 | 0.2677232 |\n",
       "\n"
      ],
      "text/plain": [
       "       vars n   mean      sd       median trimmed   mad      min      max    \n",
       "gold   1    528 0.7238636 6.034589 0.0150 0.4118160 4.596060 -21.3700 29.2400\n",
       "nyse   2    528 0.6364960 4.353424 0.9839 0.7602703 3.980188 -21.8447 16.4814\n",
       "nasdaq 3    528 0.8781858 6.151811 1.3013 1.0599858 5.078943 -27.1763 21.8964\n",
       "       range   skew       kurtosis se       \n",
       "gold   50.6100  0.9231638 4.265637 0.2626218\n",
       "nyse   38.3261 -0.4956494 2.378947 0.1894585\n",
       "nasdaq 49.0727 -0.4768352 1.836064 0.2677232"
      ]
     },
     "metadata": {},
     "output_type": "display_data"
    }
   ],
   "source": [
    "install.packages(\"psych\")\n",
    "library(psych)       # very useful for data summary.\n",
    "describe(data[,-1])"
   ]
  }
 ],
 "metadata": {
  "kernelspec": {
   "display_name": "R",
   "language": "R",
   "name": "ir"
  },
  "language_info": {
   "codemirror_mode": "r",
   "file_extension": ".r",
   "mimetype": "text/x-r-source",
   "name": "R",
   "pygments_lexer": "r",
   "version": "3.6.1"
  }
 },
 "nbformat": 4,
 "nbformat_minor": 2
}
