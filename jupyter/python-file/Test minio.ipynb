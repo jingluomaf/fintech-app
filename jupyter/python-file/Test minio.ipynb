{
 "cells": [
  {
   "cell_type": "markdown",
   "metadata": {},
   "source": [
    "# About"
   ]
  },
  {
   "cell_type": "markdown",
   "metadata": {},
   "source": [
    "This notebook shows the connection to the minio service"
   ]
  },
  {
   "cell_type": "markdown",
   "metadata": {},
   "source": [
    "## Setup"
   ]
  },
  {
   "cell_type": "code",
   "execution_count": 1,
   "metadata": {},
   "outputs": [
    {
     "name": "stdout",
     "output_type": "stream",
     "text": [
      "Files in '/jupyter': ['txt-file', 'r-file', 'python-file', 'pdf-file', 'csv-file']\n"
     ]
    }
   ],
   "source": [
    "import os\n",
    "from minio import Minio\n",
    "\n",
    "# set working directory\n",
    "os.chdir(\"/jupyter\")\n",
    "cwd = os.getcwd()  # Get the current working directory (cwd)\n",
    "files = os.listdir(cwd)  # Get all the files in that directory\n",
    "print(\"Files in %r: %s\" % (cwd, files))\n",
    "\n",
    "# create a connection to the object store\n",
    "minio_client = Minio(\n",
    "    endpoint=\"minio:9000\",\n",
    "    access_key=os.environ[\"MINIO_ACCESS_KEY\"],\n",
    "    secret_key=os.environ[\"MINIO_SECRET_KEY\"],\n",
    "    secure=False\n",
    ")\n",
    "\n",
    "# write a sample file\n",
    "with open(\"./txt-file/sample.txt\", \"w\") as f:\n",
    "    f.write(\"This is just a sample text\")"
   ]
  },
  {
   "cell_type": "markdown",
   "metadata": {},
   "source": [
    "## Write Data"
   ]
  },
  {
   "cell_type": "code",
   "execution_count": 2,
   "metadata": {},
   "outputs": [
    {
     "data": {
      "text/plain": [
       "'960bdccd0c90e96306b4682117786857-1'"
      ]
     },
     "execution_count": 2,
     "metadata": {},
     "output_type": "execute_result"
    }
   ],
   "source": [
    "# create a minio bucket\n",
    "minio_client.make_bucket(\"sample-bucket\")\n",
    "\n",
    "# write the object to minio\n",
    "minio_client.fput_object(\n",
    "    bucket_name=\"sample-bucket\", \n",
    "    object_name=\"sample-file.txt\", \n",
    "    file_path=\"txt-file/sample.txt\"\n",
    ")"
   ]
  },
  {
   "cell_type": "markdown",
   "metadata": {},
   "source": [
    "##  Read Data"
   ]
  },
  {
   "cell_type": "code",
   "execution_count": 3,
   "metadata": {},
   "outputs": [
    {
     "data": {
      "text/plain": [
       "'This is just a sample text'"
      ]
     },
     "execution_count": 3,
     "metadata": {},
     "output_type": "execute_result"
    }
   ],
   "source": [
    "minio_client.get_object(\"sample-bucket\", \"sample-file.txt\").data.decode()"
   ]
  },
  {
   "cell_type": "code",
   "execution_count": null,
   "metadata": {},
   "outputs": [],
   "source": []
  }
 ],
 "metadata": {
  "kernelspec": {
   "display_name": "Python 3",
   "language": "python",
   "name": "python3"
  },
  "language_info": {
   "codemirror_mode": {
    "name": "ipython",
    "version": 3
   },
   "file_extension": ".py",
   "mimetype": "text/x-python",
   "name": "python",
   "nbconvert_exporter": "python",
   "pygments_lexer": "ipython3",
   "version": "3.7.3"
  }
 },
 "nbformat": 4,
 "nbformat_minor": 2
}
